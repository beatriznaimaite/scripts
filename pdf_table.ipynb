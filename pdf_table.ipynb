{
 "cells": [
  {
   "cell_type": "code",
   "execution_count": 1,
   "id": "fd2b6049",
   "metadata": {},
   "outputs": [
    {
     "name": "stdout",
     "output_type": "stream",
     "text": [
      "openjdk version \"11.0.11\" 2021-04-20\r\n",
      "OpenJDK Runtime Environment (build 11.0.11+9-Ubuntu-0ubuntu2.20.04)\r\n",
      "OpenJDK 64-Bit Server VM (build 11.0.11+9-Ubuntu-0ubuntu2.20.04, mixed mode, sharing)\r\n"
     ]
    }
   ],
   "source": [
    "!java -version"
   ]
  },
  {
   "cell_type": "markdown",
   "id": "02d7490a",
   "metadata": {},
   "source": [
    "# 0.0. Imports"
   ]
  },
  {
   "cell_type": "code",
   "execution_count": 2,
   "id": "b7dba1ca",
   "metadata": {
    "scrolled": true
   },
   "outputs": [],
   "source": [
    "import pandas as pd\n",
    "import tabula "
   ]
  },
  {
   "cell_type": "markdown",
   "id": "54cdddec",
   "metadata": {},
   "source": [
    "## 0.1. loading data"
   ]
  },
  {
   "cell_type": "code",
   "execution_count": 3,
   "id": "c2580811",
   "metadata": {},
   "outputs": [],
   "source": [
    "file = 'https://smastr16.blob.core.windows.net/legislacao/2016/12/Resolu%C3%A7%C3%A3o-SMA-057-2016-subst-300616.pdf'"
   ]
  },
  {
   "cell_type": "code",
   "execution_count": 4,
   "id": "59497a9d",
   "metadata": {},
   "outputs": [],
   "source": [
    "pages = list(range(3,32))"
   ]
  },
  {
   "cell_type": "code",
   "execution_count": 5,
   "id": "402b084f",
   "metadata": {},
   "outputs": [],
   "source": [
    "table = tabula.read_pdf(file, pages=pages, output_format='dataframe', stream=True, silent=True)"
   ]
  },
  {
   "cell_type": "markdown",
   "id": "a829e1ee",
   "metadata": {},
   "source": [
    "## 0.2. data information"
   ]
  },
  {
   "cell_type": "code",
   "execution_count": 6,
   "id": "d110b398",
   "metadata": {},
   "outputs": [
    {
     "name": "stdout",
     "output_type": "stream",
     "text": [
      "<class 'list'>\n",
      "1\n"
     ]
    }
   ],
   "source": [
    "print(type(table))\n",
    "print(len(table))"
   ]
  },
  {
   "cell_type": "code",
   "execution_count": 7,
   "id": "310ae7d2",
   "metadata": {},
   "outputs": [
    {
     "name": "stdout",
     "output_type": "stream",
     "text": [
      "[                Família                                        Espécie  \\\n",
      "0       AMBLYSTEGIACEAE            Anacamptodon cubensis (Sull.) Mitt.   \n",
      "1            ANEURACEAE           Riccardia schwaneckei (Steph.) Pagán   \n",
      "2        ANOMODONTACEAE  Herpertineuron toccoae (Sull. & Lesq.) Cardot   \n",
      "3       ANTHOCEROTACEAE           Folioceros apiahynus (Steph.) Hässel   \n",
      "4     BALANTIOPSIDACEAE            Neesioscyphus carneus (Nees) Grolle   \n",
      "...                 ...                                            ...   \n",
      "1086         XYRIDACEAE                  Xyris stenophylla L.A.Nilsson   \n",
      "1087         XYRIDACEAE                       Xyris trachyphylla Mart.   \n",
      "1088         XYRIDACEAE                          Xyris uninervis Malme   \n",
      "1089         XYRIDACEAE                          Xyris vacillans Malme   \n",
      "1090         XYRIDACEAE                          Xyris wawrae Heimerl.   \n",
      "\n",
      "     Status de conservação  \n",
      "0                       EX  \n",
      "1                       EX  \n",
      "2                       VU  \n",
      "3                       EX  \n",
      "4                       EX  \n",
      "...                    ...  \n",
      "1086                    EX  \n",
      "1087                    EN  \n",
      "1088                    VU  \n",
      "1089                    EN  \n",
      "1090                    EN  \n",
      "\n",
      "[1091 rows x 3 columns]]\n"
     ]
    }
   ],
   "source": [
    "print(table)"
   ]
  },
  {
   "cell_type": "markdown",
   "id": "7df5a296",
   "metadata": {},
   "source": [
    "# 1.0. Data transformation"
   ]
  },
  {
   "cell_type": "code",
   "execution_count": 8,
   "id": "1e94f1c0",
   "metadata": {},
   "outputs": [],
   "source": [
    "data = table[0]"
   ]
  },
  {
   "cell_type": "code",
   "execution_count": 9,
   "id": "55e3ac5f",
   "metadata": {},
   "outputs": [
    {
     "name": "stdout",
     "output_type": "stream",
     "text": [
      "<class 'pandas.core.frame.DataFrame'>\n",
      "RangeIndex: 1091 entries, 0 to 1090\n",
      "Data columns (total 3 columns):\n",
      " #   Column                 Non-Null Count  Dtype \n",
      "---  ------                 --------------  ----- \n",
      " 0   Família                1091 non-null   object\n",
      " 1   Espécie                1091 non-null   object\n",
      " 2   Status de conservação  1091 non-null   object\n",
      "dtypes: object(3)\n",
      "memory usage: 25.7+ KB\n"
     ]
    }
   ],
   "source": [
    "data.info()"
   ]
  },
  {
   "cell_type": "code",
   "execution_count": 10,
   "id": "fecf8ee8",
   "metadata": {},
   "outputs": [
    {
     "data": {
      "text/html": [
       "<div>\n",
       "<style scoped>\n",
       "    .dataframe tbody tr th:only-of-type {\n",
       "        vertical-align: middle;\n",
       "    }\n",
       "\n",
       "    .dataframe tbody tr th {\n",
       "        vertical-align: top;\n",
       "    }\n",
       "\n",
       "    .dataframe thead th {\n",
       "        text-align: right;\n",
       "    }\n",
       "</style>\n",
       "<table border=\"1\" class=\"dataframe\">\n",
       "  <thead>\n",
       "    <tr style=\"text-align: right;\">\n",
       "      <th></th>\n",
       "      <th>Família</th>\n",
       "      <th>Espécie</th>\n",
       "      <th>Status de conservação</th>\n",
       "    </tr>\n",
       "  </thead>\n",
       "  <tbody>\n",
       "    <tr>\n",
       "      <th>104</th>\n",
       "      <td>Família</td>\n",
       "      <td>Espécie</td>\n",
       "      <td>Status de conservação</td>\n",
       "    </tr>\n",
       "    <tr>\n",
       "      <th>106</th>\n",
       "      <td>Família</td>\n",
       "      <td>Espécie</td>\n",
       "      <td>Status de conservação</td>\n",
       "    </tr>\n",
       "  </tbody>\n",
       "</table>\n",
       "</div>"
      ],
      "text/plain": [
       "     Família  Espécie  Status de conservação\n",
       "104  Família  Espécie  Status de conservação\n",
       "106  Família  Espécie  Status de conservação"
      ]
     },
     "execution_count": 10,
     "metadata": {},
     "output_type": "execute_result"
    }
   ],
   "source": [
    "data[data.duplicated() == True]"
   ]
  },
  {
   "cell_type": "code",
   "execution_count": 11,
   "id": "08bd4a9c",
   "metadata": {},
   "outputs": [],
   "source": [
    "index = data[data['Família'] == 'Família'].index\n",
    "data = data.drop(index)"
   ]
  },
  {
   "cell_type": "code",
   "execution_count": 11,
   "id": "552aba7a",
   "metadata": {},
   "outputs": [
    {
     "data": {
      "text/plain": [
       "1088"
      ]
     },
     "execution_count": 11,
     "metadata": {},
     "output_type": "execute_result"
    }
   ],
   "source": [
    "len(data)"
   ]
  },
  {
   "cell_type": "code",
   "execution_count": 12,
   "id": "18e5856c",
   "metadata": {},
   "outputs": [
    {
     "data": {
      "text/html": [
       "<div>\n",
       "<style scoped>\n",
       "    .dataframe tbody tr th:only-of-type {\n",
       "        vertical-align: middle;\n",
       "    }\n",
       "\n",
       "    .dataframe tbody tr th {\n",
       "        vertical-align: top;\n",
       "    }\n",
       "\n",
       "    .dataframe thead th {\n",
       "        text-align: right;\n",
       "    }\n",
       "</style>\n",
       "<table border=\"1\" class=\"dataframe\">\n",
       "  <thead>\n",
       "    <tr style=\"text-align: right;\">\n",
       "      <th></th>\n",
       "      <th>Família</th>\n",
       "      <th>Espécie</th>\n",
       "      <th>Status de conservação</th>\n",
       "    </tr>\n",
       "  </thead>\n",
       "  <tbody>\n",
       "    <tr>\n",
       "      <th>270</th>\n",
       "      <td>BROMELIACEAE</td>\n",
       "      <td>Billbergia meyeri Mez</td>\n",
       "      <td>EX</td>\n",
       "    </tr>\n",
       "    <tr>\n",
       "      <th>39</th>\n",
       "      <td>LEJEUNEACEAE</td>\n",
       "      <td>Myriocoleopsis fluviatilis (Steph.) E.Reiner &amp;...</td>\n",
       "      <td>VU</td>\n",
       "    </tr>\n",
       "    <tr>\n",
       "      <th>1032</th>\n",
       "      <td>RUBIACEAE</td>\n",
       "      <td>Rudgea corymbulosa Benth.</td>\n",
       "      <td>EN</td>\n",
       "    </tr>\n",
       "    <tr>\n",
       "      <th>980</th>\n",
       "      <td>PROTEACEAE</td>\n",
       "      <td>Euplassa cantareirae Sleumer</td>\n",
       "      <td>EX</td>\n",
       "    </tr>\n",
       "    <tr>\n",
       "      <th>75</th>\n",
       "      <td>TRICHOCOLEACEAE</td>\n",
       "      <td>Trichocolea argentea Herzog</td>\n",
       "      <td>EX</td>\n",
       "    </tr>\n",
       "    <tr>\n",
       "      <th>679</th>\n",
       "      <td>MYRTACEAE</td>\n",
       "      <td>Neomitranthes capivariensis (Mattos) Mattos</td>\n",
       "      <td>EN</td>\n",
       "    </tr>\n",
       "    <tr>\n",
       "      <th>900</th>\n",
       "      <td>POACEAE</td>\n",
       "      <td>Eriochloa distachya Kunth</td>\n",
       "      <td>EN</td>\n",
       "    </tr>\n",
       "    <tr>\n",
       "      <th>297</th>\n",
       "      <td>BROMELIACEAE</td>\n",
       "      <td>Vriesea lubbersii (Baker) E.Morren ex Mez</td>\n",
       "      <td>EX</td>\n",
       "    </tr>\n",
       "    <tr>\n",
       "      <th>669</th>\n",
       "      <td>MYRTACEAE</td>\n",
       "      <td>Myrcia hexasticha Kiaersk.</td>\n",
       "      <td>EN</td>\n",
       "    </tr>\n",
       "    <tr>\n",
       "      <th>414</th>\n",
       "      <td>FABACEAE</td>\n",
       "      <td>Peltogyne confertiflora (Hayne) Benth.</td>\n",
       "      <td>EN</td>\n",
       "    </tr>\n",
       "  </tbody>\n",
       "</table>\n",
       "</div>"
      ],
      "text/plain": [
       "              Família                                            Espécie  \\\n",
       "270      BROMELIACEAE                              Billbergia meyeri Mez   \n",
       "39       LEJEUNEACEAE  Myriocoleopsis fluviatilis (Steph.) E.Reiner &...   \n",
       "1032        RUBIACEAE                          Rudgea corymbulosa Benth.   \n",
       "980        PROTEACEAE                       Euplassa cantareirae Sleumer   \n",
       "75    TRICHOCOLEACEAE                        Trichocolea argentea Herzog   \n",
       "679         MYRTACEAE        Neomitranthes capivariensis (Mattos) Mattos   \n",
       "900           POACEAE                          Eriochloa distachya Kunth   \n",
       "297      BROMELIACEAE          Vriesea lubbersii (Baker) E.Morren ex Mez   \n",
       "669         MYRTACEAE                         Myrcia hexasticha Kiaersk.   \n",
       "414          FABACEAE             Peltogyne confertiflora (Hayne) Benth.   \n",
       "\n",
       "     Status de conservação  \n",
       "270                     EX  \n",
       "39                      VU  \n",
       "1032                    EN  \n",
       "980                     EX  \n",
       "75                      EX  \n",
       "679                     EN  \n",
       "900                     EN  \n",
       "297                     EX  \n",
       "669                     EN  \n",
       "414                     EN  "
      ]
     },
     "execution_count": 12,
     "metadata": {},
     "output_type": "execute_result"
    }
   ],
   "source": [
    "data.sample(10)"
   ]
  },
  {
   "cell_type": "code",
   "execution_count": 13,
   "id": "ea6906d8",
   "metadata": {},
   "outputs": [],
   "source": [
    "data.to_excel('especies_sma_57_16.xlsx', sheet_name='especies', index=False)"
   ]
  }
 ],
 "metadata": {
  "kernelspec": {
   "display_name": "Python 3 (ipykernel)",
   "language": "python",
   "name": "python3"
  },
  "language_info": {
   "codemirror_mode": {
    "name": "ipython",
    "version": 3
   },
   "file_extension": ".py",
   "mimetype": "text/x-python",
   "name": "python",
   "nbconvert_exporter": "python",
   "pygments_lexer": "ipython3",
   "version": "3.8.11"
  },
  "nbTranslate": {
   "displayLangs": [
    "*"
   ],
   "hotkey": "alt-t",
   "langInMainMenu": true,
   "sourceLang": "en",
   "targetLang": "fr",
   "useGoogleTranslate": true
  }
 },
 "nbformat": 4,
 "nbformat_minor": 5
}
